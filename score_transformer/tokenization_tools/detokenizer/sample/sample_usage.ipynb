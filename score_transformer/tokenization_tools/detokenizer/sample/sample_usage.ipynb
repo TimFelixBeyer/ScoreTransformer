{
 "cells": [
  {
   "cell_type": "code",
   "execution_count": 1,
   "metadata": {},
   "outputs": [],
   "source": [
    "# import \"tokens_to_score.py\" (assuming the file is in the same directory)\n",
    "from tokens_to_score import *"
   ]
  },
  {
   "cell_type": "code",
   "execution_count": 2,
   "metadata": {},
   "outputs": [
    {
     "data": {
      "text/plain": [
       "'R bar clef_treble time_4/4 <voice> note_D5 len_1/2 stem_up beam_start note_E5 len_1/2 stem_up beam_continue note_D5 len_1/2 stem_up beam_continue note_E5 len_1/2 stem_up beam_stop note_D5 len_1 stem_up note_E5 len_1 stem_up </voice> <voice> note_B4 note_F4 len_1 stem_down note_B4 note_F4 len_1 stem_down note_F4 note_B4 len_1 stem_down note_F4 note_B4 len_1 stem_down </voice> bar note_C5 note_E4 len_1 stem_up note_F5 note_C5 note_F4 len_1 stem_down note_E5 note_C5 note_E4 len_1 stem_up note_E5 len_1/2 stem_down beam_start note_Eb5 len_1/2 stem_down beam_stop bar <voice> note_D5 len_1/2 stem_up beam_start note_E5 len_1/2 stem_up beam_continue note_D5 len_1/2 stem_up beam_continue note_E5 len_1/2 stem_up beam_stop note_D5 len_1 stem_up note_A5 len_1 stem_up </voice> <voice> note_F#4 note_C5 len_1 stem_down note_F#4 note_C5 len_1 stem_down note_F#4 note_C5 len_1 stem_down note_D5 note_C5 len_1 stem_down </voice> bar note_B4 len_1/2 stem_down beam_start note_A5 len_1/2 stem_down beam_continue note_G5 len_1/2 stem_down beam_continue note_F5 len_1/2 stem_down beam_stop note_D5 len_1/2 stem_up beam_start note_B4 len_1/2 stem_up beam_continue note_A4 len_1/2 stem_up beam_continue note_G4 len_1/2 stem_up beam_stop L bar clef_bass time_4/4 note_G2 len_1 stem_up note_B3 note_G3 len_1 stem_down note_G2 len_1 stem_up note_B3 note_G3 len_1 stem_down bar note_G3 note_C3 len_1 stem_down note_A3 note_C3 len_1 stem_down note_G3 note_C3 len_1 stem_down rest len_1 bar note_A2 len_1 stem_up note_C4 note_F#3 note_D3 len_1 stem_down note_D2 len_1 stem_up note_C4 note_F#3 note_D3 len_1 stem_down bar note_G2 len_1 stem_up note_F4 note_B3 note_G3 len_1 stem_down note_F4 note_B3 note_G3 len_1 stem_down rest len_1'"
      ]
     },
     "execution_count": 2,
     "metadata": {},
     "output_type": "execute_result"
    }
   ],
   "source": [
    "# load tokens\n",
    "token_sequence = open('input_tokens.txt').read()\n",
    "token_sequence"
   ]
  },
  {
   "cell_type": "code",
   "execution_count": 3,
   "metadata": {},
   "outputs": [],
   "source": [
    "# convert them to music21 Score object\n",
    "s = tokens_to_score(token_sequence)"
   ]
  },
  {
   "cell_type": "code",
   "execution_count": 4,
   "metadata": {},
   "outputs": [
    {
     "data": {
      "text/plain": [
       "'generated_score.xml'"
      ]
     },
     "execution_count": 4,
     "metadata": {},
     "output_type": "execute_result"
    }
   ],
   "source": [
    "# write into a MusicXML file\n",
    "s.write('musicxml', 'generated_score')"
   ]
  }
 ],
 "metadata": {
  "kernelspec": {
   "display_name": "Python 3",
   "language": "python",
   "name": "python3"
  },
  "language_info": {
   "codemirror_mode": {
    "name": "ipython",
    "version": 3
   },
   "file_extension": ".py",
   "mimetype": "text/x-python",
   "name": "python",
   "nbconvert_exporter": "python",
   "pygments_lexer": "ipython3",
   "version": "3.8.8"
  }
 },
 "nbformat": 4,
 "nbformat_minor": 4
}
