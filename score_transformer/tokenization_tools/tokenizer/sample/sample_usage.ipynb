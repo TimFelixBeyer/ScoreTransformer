{
 "cells": [
  {
   "cell_type": "code",
   "execution_count": 1,
   "metadata": {},
   "outputs": [],
   "source": [
    "# import \"score_to_tokens.py\" (assuming the file is in the same directory)\n",
    "from score_to_tokens import *"
   ]
  },
  {
   "cell_type": "code",
   "execution_count": 2,
   "metadata": {},
   "outputs": [
    {
     "data": {
      "text/plain": [
       "'R bar clef_treble key_sharp_3 time_3/4 note_E5 len_2 stem_down tie_stop note_C#5 len_1/2 stem_down beam_start note_E5 len_1/2 stem_down beam_stop bar <voice> note_E5 len_2 stem_up note_C#5 len_1/2 stem_up beam_start note_B4 len_1/4 stem_up beam_continue_start note_A4 len_1/4 stem_up beam_stop_stop </voice> <voice> note_A4 len_2 stem_down note_E4 len_1 stem_down </voice> bar <voice> note_C#5 len_2 stem_up note_B4 len_1 stem_up </voice> <voice> note_G#4 len_3 stem_down </voice> bar <voice> note_A4 len_2 stem_up note_F#4 len_1 stem_up </voice> <voice> note_D4 len_3 stem_down </voice> L bar clef_bass key_sharp_3 time_3/4 note_G#3 note_E3 note_A2 len_2 stem_down note_G#3 note_E3 note_A2 len_1 stem_down bar note_F#2 len_1/2 stem_up beam_start note_C#3 len_1/2 stem_up beam_stop note_F#3 len_1/2 stem_down beam_start note_G#3 len_1/2 stem_down beam_stop note_A3 len_1/2 stem_down beam_start note_B3 len_1/2 stem_down beam_stop bar note_E2 len_1/2 stem_up beam_start note_C#3 len_1/2 stem_up beam_stop note_E3 len_1/2 stem_down beam_start note_F#3 len_1/2 stem_down beam_stop note_C#4 len_1/2 stem_down beam_start note_G#3 len_1/2 stem_down beam_stop bar note_D2 len_1/2 stem_up beam_start note_A2 len_1/2 stem_up beam_stop note_D3 len_1/2 stem_down beam_start note_F#3 len_1/2 stem_down beam_stop note_G#3 len_1/2 stem_down beam_start note_A3 len_1/2 stem_down beam_stop'"
      ]
     },
     "execution_count": 2,
     "metadata": {},
     "output_type": "execute_result"
    }
   ],
   "source": [
    "# load MusicXML file and convert its content to tokens\n",
    "tokens = MusicXML_to_tokens('input_score.musicxml')\n",
    "' '.join(tokens)"
   ]
  },
  {
   "cell_type": "code",
   "execution_count": 3,
   "metadata": {},
   "outputs": [],
   "source": [
    "# write out\n",
    "with open('generated_tokens.txt', 'w') as f:\n",
    "    f.write(' '.join(tokens))"
   ]
  }
 ],
 "metadata": {
  "kernelspec": {
   "display_name": "Python 3",
   "language": "python",
   "name": "python3"
  },
  "language_info": {
   "codemirror_mode": {
    "name": "ipython",
    "version": 3
   },
   "file_extension": ".py",
   "mimetype": "text/x-python",
   "name": "python",
   "nbconvert_exporter": "python",
   "pygments_lexer": "ipython3",
   "version": "3.8.8"
  }
 },
 "nbformat": 4,
 "nbformat_minor": 4
}
